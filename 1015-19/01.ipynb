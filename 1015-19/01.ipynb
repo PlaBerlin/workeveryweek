{
 "cells": [
  {
   "cell_type": "markdown",
   "metadata": {
    "slideshow": {
     "slide_type": "slide"
    }
   },
   "source": [
    "Slide：主页面，通过按左右方向键进行切换。\n",
    "\n",
    "Sub-Slide：副页面，通过按上下方向键进行切换。\n",
    "\n",
    "Fragment：一开始是隐藏的，按空格键或方向键后显示，实现动态效果。\n",
    "\n",
    "Skip：在幻灯片中不显示的单元。\n",
    "\n",
    "Notes：作为演讲者的备忘笔记，也不在幻灯片中显示"
   ]
  },
  {
   "cell_type": "markdown",
   "metadata": {
    "slideshow": {
     "slide_type": "subslide"
    }
   },
   "source": [
    "$E = mc^2$"
   ]
  },
  {
   "cell_type": "markdown",
   "metadata": {
    "ExecuteTime": {
     "end_time": "2019-10-15T06:52:23.265220Z",
     "start_time": "2019-10-15T06:52:23.134602Z"
    },
    "slideshow": {
     "slide_type": "fragment"
    }
   },
   "source": [
    "这是爱因斯坦的质能方程"
   ]
  },
  {
   "cell_type": "markdown",
   "metadata": {
    "ExecuteTime": {
     "end_time": "2019-10-15T07:17:31.692389Z",
     "start_time": "2019-10-15T07:17:31.652861Z"
    },
    "slideshow": {
     "slide_type": "slide"
    }
   },
   "source": [
    "![jupyter](./pic/01.png)"
   ]
  }
 ],
 "metadata": {
  "celltoolbar": "Slideshow",
  "kernelspec": {
   "display_name": "Python 3",
   "language": "python",
   "name": "python3"
  },
  "language_info": {
   "codemirror_mode": {
    "name": "ipython",
    "version": 3
   },
   "file_extension": ".py",
   "mimetype": "text/x-python",
   "name": "python",
   "nbconvert_exporter": "python",
   "pygments_lexer": "ipython3",
   "version": "3.7.0"
  },
  "toc": {
   "base_numbering": 1,
   "nav_menu": {},
   "number_sections": true,
   "sideBar": true,
   "skip_h1_title": false,
   "title_cell": "Table of Contents",
   "title_sidebar": "Contents",
   "toc_cell": false,
   "toc_position": {},
   "toc_section_display": true,
   "toc_window_display": false
  }
 },
 "nbformat": 4,
 "nbformat_minor": 2
}
