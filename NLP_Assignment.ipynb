{
 "cells": [
  {
   "cell_type": "markdown",
   "metadata": {},
   "source": [
    "# 数据准备"
   ]
  },
  {
   "cell_type": "code",
   "execution_count": 3,
   "metadata": {
    "ExecuteTime": {
     "end_time": "2019-11-18T01:04:01.380048Z",
     "start_time": "2019-11-18T01:04:01.372045Z"
    }
   },
   "outputs": [],
   "source": [
    "import json\n",
    "\n",
    "path = './assignment_data/article_exporter.json'\n",
    "with open(path, 'r', encoding='utf8', errors='ignore') as file:   \n",
    "    data = json.load(file)"
   ]
  },
  {
   "cell_type": "markdown",
   "metadata": {},
   "source": [
    "## 数据预览"
   ]
  },
  {
   "cell_type": "code",
   "execution_count": 4,
   "metadata": {
    "ExecuteTime": {
     "end_time": "2019-11-18T01:04:04.100538Z",
     "start_time": "2019-11-18T01:04:04.094533Z"
    }
   },
   "outputs": [
    {
     "data": {
      "text/plain": [
       "[{'stock_name': '浦发银行',\n",
       "  'title': '目前这个价格还是很合适买入持有。12.75',\n",
       "  'author': '小秘书',\n",
       "  'timing': '11-11 15:03',\n",
       "  'content': '  在12.5元至13元区间，还是值得投入长持。有一些前提一定要明确的，一是浦发的情况已经改善，还会继续完备经营管理向好。二来是市场中的浦发走向已转向右侧交易的方向，与几年前已不一样。从外资进来增持，从股市机制变化，从完备做空机制等等都有利于资金进一步加入浦发阵营。浦发今年的回归合理估值慢于好几个银行，这种情况将于现在起的一段时间会赶上。浦发的第三季业绩已公布。现阶段进入浦发，已没有几年前强弓之末时的失落。好好珍惜这时光。（从浦发明确15.05元已是最低可接受的转股价来看，向上的空间还是不少，虽然不是即时而要一些时间，但浦发已给你确立明确的信号。）2020年上证到2600点以下的观点不变，并不影响我对浦发的驻守。                                      '},\n",
       " {'stock_name': '浦发银行',\n",
       "  'title': '浦发一发完债，就跌跌不休，有点提起裤子，就不认账的赶脚[大笑]',\n",
       "  'author': 'Su999',\n",
       "  'timing': '11-11 14:05',\n",
       "  'content': '  浦发一发完债，就跌跌不休，有点提起裤子，就不认账的赶脚                                      '}]"
      ]
     },
     "execution_count": 4,
     "metadata": {},
     "output_type": "execute_result"
    }
   ],
   "source": [
    "data[:2]"
   ]
  },
  {
   "cell_type": "markdown",
   "metadata": {},
   "source": [
    "## 评论拼接"
   ]
  },
  {
   "cell_type": "code",
   "execution_count": 8,
   "metadata": {
    "ExecuteTime": {
     "end_time": "2019-11-18T01:05:38.101873Z",
     "start_time": "2019-11-18T01:05:38.094868Z"
    }
   },
   "outputs": [
    {
     "data": {
      "text/plain": [
       "'在12.5元至13元区间，还是值得投入长持。有一些前提一定要明确的，一是浦发的情况已经改善，还会继续完备经营管理向好。二来是市场中的浦发走向已转向右侧交易的方向，与几年前已不一样。从外资进来增持，从股市机制变化，从完备做空机制等等都有利于资金进一步加入浦发阵营。浦发今年的回归合理估值慢于好几个银行，这种情况将于现在起的一段时间会赶上。浦发的第三季业绩已公布。现阶段进入浦发，已没有几年前强弓之末时的失落。好好珍惜这时光。（从浦发明确15.05元已是最低可接受的转股价来看，向上的空间还是不少，虽然不是即时而要一些时间，但浦发已给你确立明确的信号。）2020年上证到2600点以下的观点不变，并不影响我对浦发的驻守。浦发一发完债，就跌跌不休，有点提起裤子，就不认账的赶脚光线传媒要大涨，哪吒就是光线传媒的杰作，要大涨了，主力操盘策略是从现在涨到2020年10份涨到30以上。信，你就赶紧买入，融资买入。，哪吒就是光线传媒的杰作，要大涨了，主力操盘策略是从现在涨到2020年10份涨到30以上。信，你就赶紧买入，融资买入。怪圈现象再现 盲目提倡业绩浪其实就是一借口罢了。茅台。长春高新。你业绩再差。只要有人关注，你站在1200元又如何？拭目以待国庆前后，平安银行、宁波银行和浦发银行带动整个银行板块开始走强。其中，表现最好的就是刚刚发行过可转债或者即将发行可转债的银行，比如：已经完成强制转股的平安银行、宁波银行，正在为推动强制转股努力的光大银行和正在为发行可转债而努力的浦发银行。给投资者的感觉似乎是只要和可转债沾边的都可以涨。除了可转债以外，还有一些估值偏高的银行正在启动股权增发程序，比如：宁波银行和南京银行。目前，整个A股市场对于银行股的股权再融资是非常支持的。但是，需要提醒投资者注意的是：股权再融资是一柄双刃剑。银行业是一个很特殊的行业和普通企业完全不同。一般企业增发是用来购买设备、建厂房、开店等，这些行动通常都有一个建设周期，所以增发后不会马上产生效益。但是，银行不同，银行增发获取的资金是用于补充资本金，只要资本金有了，银行可以通过揽储，发行同业存单，同业拆借等多种手段快速扩大资产负债表，从而快速增加利息收入。所以，只要增发资金到位，银行第二天就可以开始产生额外的利润。这种情况会给银行投资者带来一种错觉就是银行的净利润增速提高了。实际上如果考虑股本扩张带来的摊薄效应，增发更多的是给投资者带来一种虚假繁荣。笔者选择了5家主要的股份行：招商银行、浦发银行、民生银行、兴业银行、平安银行；然后又选择了2014年~2018年这5年的年报作为数据输入，来观察从2014到2018年这4个日历年里的净利润增速表现和考虑股本摊薄后的表现。首先，看一下净利润的表现，如下表1所示：表1从表1中可以看出，从2014年到2018年，5家股份制银行的累计净利润增速在13%~44%。如果年化后，5家银行的年化增速在3.1%~9.56%之间。其中，表现最好的是招商银行，表现最差的是民生银行。但是，如果我们把股权融资（包括：普通股权融资和优先股融资）的摊薄效应考虑之后，通过比较每家股份行的EPS（每股收益，earnings per share）来看看变化，如下表2所示：表2在表2中笔者添加了一列：累计送配比例，用以去除合理送转股和配股对EPS产生影响。以送转股为例，假设某公司的第一年的业绩是每股2元，分红策略为10转10分红率30%。第二年该公司的业绩零增长，保持分红率30%不变。如果一个投资者，初始持有10000股，那么第一年分红季结束他持有20000股和6000元分红，第二年分红季结束，虽'"
      ]
     },
     "execution_count": 8,
     "metadata": {},
     "output_type": "execute_result"
    }
   ],
   "source": [
    "contents = ''\n",
    "for comment in data:\n",
    "    contents += comment['content'].strip()\n",
    "contents[:1500]"
   ]
  },
  {
   "cell_type": "markdown",
   "metadata": {},
   "source": [
    "# 进行分词"
   ]
  },
  {
   "cell_type": "code",
   "execution_count": 10,
   "metadata": {
    "ExecuteTime": {
     "end_time": "2019-11-18T01:06:20.551035Z",
     "start_time": "2019-11-18T01:06:20.248021Z"
    }
   },
   "outputs": [
    {
     "data": {
      "text/plain": [
       "['在',\n",
       " '12.5',\n",
       " '元至',\n",
       " '13',\n",
       " '元',\n",
       " '区间',\n",
       " '，',\n",
       " '还是',\n",
       " '值得',\n",
       " '投入',\n",
       " '长持',\n",
       " '。',\n",
       " '有',\n",
       " '一些',\n",
       " '前提',\n",
       " '一定',\n",
       " '要',\n",
       " '明确',\n",
       " '的',\n",
       " '，']"
      ]
     },
     "execution_count": 10,
     "metadata": {},
     "output_type": "execute_result"
    }
   ],
   "source": [
    "import jieba\n",
    "split_words = list(jieba.cut(contents))\n",
    "split_words[:20]"
   ]
  },
  {
   "cell_type": "markdown",
   "metadata": {},
   "source": [
    "## 去停止词"
   ]
  },
  {
   "cell_type": "code",
   "execution_count": 11,
   "metadata": {
    "ExecuteTime": {
     "end_time": "2019-11-18T01:06:56.788406Z",
     "start_time": "2019-11-18T01:06:56.176831Z"
    }
   },
   "outputs": [
    {
     "data": {
      "text/plain": [
       "['12.5',\n",
       " '元至',\n",
       " '13',\n",
       " '元',\n",
       " '区间',\n",
       " '值得',\n",
       " '投入',\n",
       " '长持',\n",
       " '前提',\n",
       " '一定',\n",
       " '明确',\n",
       " '一是',\n",
       " '浦发',\n",
       " '情况',\n",
       " '已经',\n",
       " '改善',\n",
       " '还会',\n",
       " '继续',\n",
       " '完备',\n",
       " '经营']"
      ]
     },
     "execution_count": 11,
     "metadata": {},
     "output_type": "execute_result"
    }
   ],
   "source": [
    "def get_stop_words(path):\n",
    "    \"\"\"从路径path中加载停止词词典\"\"\"\n",
    "    with open(path, encoding='utf-8') as file:\n",
    "        return [line.strip() for line in file]\n",
    "\n",
    "stop_words = get_stop_words('./data/stop_words.utf8')\n",
    "split_words = [word for word in split_words if word not in stop_words]\n",
    "split_words[:20]"
   ]
  },
  {
   "cell_type": "markdown",
   "metadata": {},
   "source": [
    "# N-Gram Model"
   ]
  },
  {
   "cell_type": "code",
   "execution_count": null,
   "metadata": {
    "ExecuteTime": {
     "start_time": "2019-11-18T01:13:57.679Z"
    }
   },
   "outputs": [],
   "source": [
    "from nltk.util import ngrams\n",
    "\n",
    "bigrams = ngrams(split_words, 2)"
   ]
  },
  {
   "cell_type": "markdown",
   "metadata": {},
   "source": [
    "## 数据统计"
   ]
  },
  {
   "cell_type": "code",
   "execution_count": 38,
   "metadata": {
    "ExecuteTime": {
     "end_time": "2019-11-12T11:45:43.775199Z",
     "start_time": "2019-11-12T11:45:43.758187Z"
    },
    "scrolled": true
   },
   "outputs": [
    {
     "name": "stdout",
     "output_type": "stream",
     "text": [
      "('基金', '全都')\n",
      "('基金', '买买')\n",
      "('基金', '投资')\n",
      "('基金', '投资')\n",
      "('基金', '首期')\n",
      "('基金', '200')\n",
      "('基金', '首期')\n",
      "('基金', '军民')\n",
      "('基金', '两大块')\n",
      "('基金', '上海')\n",
      "('基金', '份额')\n",
      "('基金', 'A')\n",
      "('基金', 'A')\n",
      "('基金', '基金')\n",
      "('基金', '跟踪')\n",
      "('基金', 'A')\n",
      "('基金', '上海')\n"
     ]
    }
   ],
   "source": [
    "bigrams = ngrams(split_words, 2)\n",
    "for i in bigrams:\n",
    "    if i[0]  == '基金':\n",
    "        print(i)"
   ]
  },
  {
   "cell_type": "code",
   "execution_count": 39,
   "metadata": {
    "ExecuteTime": {
     "end_time": "2019-11-12T11:45:55.973853Z",
     "start_time": "2019-11-12T11:45:55.959843Z"
    }
   },
   "outputs": [
    {
     "name": "stdout",
     "output_type": "stream",
     "text": [
      "('支', '基金')\n",
      "('公募', '基金')\n",
      "('公司', '基金')\n",
      "('方式', '基金')\n",
      "('投资', '基金')\n",
      "('引导', '基金')\n",
      "('投资', '基金')\n",
      "('子', '基金')\n",
      "('信托', '基金')\n",
      "('摩根', '基金')\n",
      "('当日', '基金')\n",
      "('联接', '基金')\n",
      "('联接', '基金')\n",
      "('联接', '基金')\n",
      "('基金', '基金')\n",
      "('联接', '基金')\n",
      "('摩根', '基金')\n"
     ]
    }
   ],
   "source": [
    "bigrams = ngrams(split_words, 2)\n",
    "for i in bigrams:\n",
    "    if i[1]  == '基金':\n",
    "        print(i)"
   ]
  }
 ],
 "metadata": {
  "hide_input": false,
  "kernelspec": {
   "display_name": "Python 3",
   "language": "python",
   "name": "python3"
  },
  "language_info": {
   "codemirror_mode": {
    "name": "ipython",
    "version": 3
   },
   "file_extension": ".py",
   "mimetype": "text/x-python",
   "name": "python",
   "nbconvert_exporter": "python",
   "pygments_lexer": "ipython3",
   "version": "3.7.0"
  },
  "toc": {
   "base_numbering": 1,
   "nav_menu": {},
   "number_sections": false,
   "sideBar": true,
   "skip_h1_title": false,
   "title_cell": "Table of Contents",
   "title_sidebar": "Contents",
   "toc_cell": false,
   "toc_position": {
    "height": "calc(100% - 180px)",
    "left": "10px",
    "top": "150px",
    "width": "165px"
   },
   "toc_section_display": true,
   "toc_window_display": true
  }
 },
 "nbformat": 4,
 "nbformat_minor": 2
}
